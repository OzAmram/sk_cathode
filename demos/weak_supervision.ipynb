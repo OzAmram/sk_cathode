{
 "cells": [
  {
   "cell_type": "markdown",
   "metadata": {},
   "source": [
    "# Weak Supervision\n",
    "\n",
    "In this notebook, we will discuss the concept of weak supervision in the context of anomaly detection. It will define what is often referred to as an *idealized anomaly detector* and compare it to a fully supervised classifier. The end of the notebook also has some macros for plotting the performance of multiple retrainings in terms of median and 68% confidence intervals.\n",
    "\n",
    "The usual approach to find a powerful discriminant for distinguishing two classes of data (here signal and background) from each other, is to train a machine learning classifier (e.g. a neural network) to distinguish the classes from each other, based on some input features $x$. At each training iteration, we compare the output of the classifier $f(x)$ to the actual label $y$ (1 for signal, 0 for background) of the training data via the loss function (usually binary cross entropy) and optimize the weights of the classifier such that they match as well as possible. What the classifier learns then is to approximate the likelihood ratio $\\frac{p_{sig}}{p_{bkg}}$, which is the most powerful test statistic according to the Neyman Pearson Lemma. This *fully supervised classifier* relies on knowing a-priori which training data are signal and which are background during training.\n",
    "\n",
    "However, there might be cases where one does not have such truth labels in advance. A prominent case is anomaly detection where one searches for small hints of anomalous signal within an overwhelming background, in a model-agnostic way. Let's imagine the case that we only have our measured data, that consists of background and maybe some signal. In addition, we somehow got an extra sample of just background data. If that was the case, we could just train a classifier to distinguish these two classes (data=sig+bkg vs bkg). Our classifier would approach a likelihood ratio that is monotonically linked to the signal-vs-bkg one $\\frac{p_{(sig+bkg)}}{p_{bkg}} = \\frac{f_{sig} p_{sig} + (1- f_{sig}) p_{bkg}}{p_{bkg}} = f_{sig} \\frac{p_{sig}}{p_{bkg}} + (1 - f_{sig})$ where $f_{sig}$ is the (unknown) signal fraction in the data.\n",
    "\n",
    "The question is now where to get this magic background-only sample. One might have a very good Monte Carlo simulation, or one might instead generate it in-situ via some data-driven estimate. The latter is the approach that multiple weak supervision methods take, such as [CWoLa Hunting](https://arxiv.org/abs/1902.02634), [SALAD](https://arxiv.org/abs/2212.10579), [CATHODE](https://arxiv.org/abs/2109.00546), [CURTAINS](https://arxiv.org/abs/2203.09470), [FETA](https://arxiv.org/abs/2212.11285). For now, we just assume we already have such a large background-only sample and refer to this idealization as the *idealized anomaly detector* (IAD).\n",
    "\n",
    "Here, we first illustrate the fully supervised training and will then compare it to the IAD."
   ]
  },
  {
   "cell_type": "code",
   "execution_count": 1,
   "metadata": {},
   "outputs": [
    {
     "name": "stdout",
     "output_type": "stream",
     "text": [
      "Defaulting to user installation because normal site-packages is not writeable\n",
      "Requirement already satisfied: vector in /global/u1/t/train233/.local/perlmutter/pytorch2.0.1/lib/python3.9/site-packages (1.4.1)\n",
      "Requirement already satisfied: scikit-learn==1.4.0 in /global/u1/t/train233/.local/perlmutter/pytorch2.0.1/lib/python3.9/site-packages (1.4.0)\n",
      "Requirement already satisfied: numpy<2.0,>=1.19.5 in /global/common/software/nersc/pm-2022q4/sw/pytorch/2.0.1/lib/python3.9/site-packages (from scikit-learn==1.4.0) (1.24.3)\n",
      "Requirement already satisfied: joblib>=1.2.0 in /global/u1/t/train233/.local/perlmutter/pytorch2.0.1/lib/python3.9/site-packages (from scikit-learn==1.4.0) (1.4.2)\n",
      "Requirement already satisfied: threadpoolctl>=2.0.0 in /global/common/software/nersc/pm-2022q4/sw/pytorch/2.0.1/lib/python3.9/site-packages (from scikit-learn==1.4.0) (2.2.0)\n",
      "Requirement already satisfied: scipy>=1.6.0 in /global/common/software/nersc/pm-2022q4/sw/pytorch/2.0.1/lib/python3.9/site-packages (from scikit-learn==1.4.0) (1.9.1)\n",
      "Requirement already satisfied: packaging>=19 in /global/common/software/nersc/pm-2022q4/sw/pytorch/2.0.1/lib/python3.9/site-packages (from vector) (23.0)\n"
     ]
    }
   ],
   "source": [
    "!pip install vector scikit-learn==1.4.0"
   ]
  },
  {
   "cell_type": "code",
   "execution_count": 2,
   "metadata": {},
   "outputs": [],
   "source": [
    "import numpy as np\n",
    "import matplotlib.pyplot as plt\n",
    "import subprocess\n",
    "import sys\n",
    "\n",
    "from os.path import exists, join, dirname, realpath\n",
    "from sklearn.metrics import roc_curve\n",
    "from sklearn.model_selection import train_test_split\n",
    "from sklearn.pipeline import make_pipeline\n",
    "from sklearn.preprocessing import StandardScaler\n",
    "from sklearn.utils import shuffle\n",
    "\n",
    "# adding parent directory to path\n",
    "parent_dir = dirname(realpath(globals()[\"_dh\"][0]))\n",
    "sys.path.append(parent_dir)\n",
    "\n",
    "from sk_cathode.classifier_models.neural_network_classifier import NeuralNetworkClassifier"
   ]
  },
  {
   "cell_type": "code",
   "execution_count": 3,
   "metadata": {},
   "outputs": [],
   "source": [
    "# :sunglasses:\n",
    "plt.style.use('dark_background')"
   ]
  },
  {
   "cell_type": "markdown",
   "metadata": {},
   "source": [
    "The input data are preprocessed via another script `demos/utils/data_preparation.py`. It downloads the [LHCO R\\&D dataset](https://zenodo.org/records/4536377) and applies the preprocessing to extract the conditional feature $m=m_{jj}$ and four auxiliary features $x=(m_{j1}, \\Delta m_{jj}, \\tau_{21,j1}, \\tau_{21,j2})$. Morevoer, it divides the $m$ spectrum into signal region and sidebands, and splits the data into training/validation/test sets. Furthermore, it consists of extra background-only samples, which we will make use of here, as well as an extra signal sample, which we will use in supervised training and for the common test set. By default, there are approximately 0.6% signal events in the \"data\".\n",
    "\n",
    "For the purpose of this guide, we will only use the signal region, as the sideband is typically used to estimate the background-only sample in realistic weak supervision methods. Further, we will not use the \"conditional feature\" $m_{jj}$ for the training, even though this would be possible."
   ]
  },
  {
   "cell_type": "code",
   "execution_count": 4,
   "metadata": {},
   "outputs": [],
   "source": [
    "data_path = \"/global/cfs/cdirs/ntrain1/anomaly/input_data/\""
   ]
  },
  {
   "cell_type": "code",
   "execution_count": 5,
   "metadata": {},
   "outputs": [],
   "source": [
    "# data preparation (download and high-level preprocessing)\n",
    "if not exists(join(data_path, \"innerdata_test.npy\")):\n",
    "    process = subprocess.run(f\"{sys.executable} {join(parent_dir, 'demos', 'utils', 'data_preparation.py')} --outdir {data_path}\", shell=True, check=True)"
   ]
  },
  {
   "cell_type": "code",
   "execution_count": 6,
   "metadata": {},
   "outputs": [],
   "source": [
    "# data loading\n",
    "innerdata_train = np.load(join(data_path, \"innerdata_train.npy\"))\n",
    "innerdata_val = np.load(join(data_path, \"innerdata_val.npy\"))\n",
    "innerdata_test = np.load(join(data_path, \"innerdata_test.npy\"))\n",
    "innerdata_extrabkg_train = np.load(join(data_path, \"innerdata_extrabkg_train.npy\"))\n",
    "innerdata_extrabkg_val = np.load(join(data_path, \"innerdata_extrabkg_val.npy\"))\n",
    "innerdata_extrabkg_test = np.load(join(data_path, \"innerdata_extrabkg_test.npy\"))\n",
    "innerdata_extrasig = np.load(join(data_path, \"innerdata_extrasig.npy\"))\n",
    "\n",
    "# splitting up the extra signal into train/val proportionally\n",
    "# also leaving some for the test set\n",
    "innerdata_extrasig_test = innerdata_extrasig[:20000]\n",
    "innerdata_extrasig_train, innerdata_extrasig_val = train_test_split(innerdata_extrasig[20000:],\n",
    "                                                                    train_size=len(innerdata_train)/(len(innerdata_train)+len(innerdata_val)),\n",
    "                                                                    random_state=42)"
   ]
  },
  {
   "cell_type": "markdown",
   "metadata": {},
   "source": [
    "The supervised classifier would realistically be trained on a good simulation of the two classes, where the labels are available. We assume this can be done with plenty of simulated signal, more than we would expect to see in the real data. Thus, we throw all our training data, as well as the extra signal and background into the supervised classifier training set."
   ]
  },
  {
   "cell_type": "code",
   "execution_count": 7,
   "metadata": {},
   "outputs": [],
   "source": [
    "sup_clsf_train_set = np.vstack([innerdata_train,\n",
    "                            innerdata_extrabkg_train,\n",
    "                            innerdata_extrasig_train])\n",
    "sup_clsf_val_set = np.vstack([innerdata_val,\n",
    "                          innerdata_extrabkg_val,\n",
    "                          innerdata_extrasig_val])\n",
    "\n",
    "sup_clsf_train_set = shuffle(sup_clsf_train_set, random_state=42)\n",
    "sup_clsf_val_set = shuffle(sup_clsf_val_set, random_state=42)"
   ]
  },
  {
   "cell_type": "code",
   "execution_count": 8,
   "metadata": {},
   "outputs": [
    {
     "name": "stdout",
     "output_type": "stream",
     "text": [
      "The model exists already in ./trained_classifiers_supervised_0/. Remove first if you want to overwrite.\n"
     ]
    }
   ],
   "source": [
    "# either train new NN classifier to distinguish between signal and background\n",
    "\n",
    "sup_scaler = StandardScaler()\n",
    "sup_scaler.fit(sup_clsf_train_set[:, 1:-1])\n",
    "\n",
    "X_train = sup_scaler.transform(sup_clsf_train_set[:, 1:-1])\n",
    "y_train = sup_clsf_train_set[:, -1]\n",
    "X_val = sup_scaler.transform(sup_clsf_val_set[:, 1:-1])\n",
    "y_val = sup_clsf_val_set[:, -1]\n",
    "\n",
    "sup_classifier_savedir = \"./trained_classifiers_supervised_0/\"\n",
    "# Let's protect ourselves from accidentally overwriting a trained model.\n",
    "if not exists(join(sup_classifier_savedir, \"CLSF_models\")):\n",
    "    sup_classifier_model = NeuralNetworkClassifier(save_path=sup_classifier_savedir,\n",
    "                                                   n_inputs=X_train.shape[1],\n",
    "                                                   early_stopping=True, epochs=None,\n",
    "                                                   verbose=True)\n",
    "    sup_classifier_model.fit(X_train, y_train, X_val, y_val)\n",
    "else:\n",
    "    print(f\"The model exists already in {sup_classifier_savedir}. Remove first if you want to overwrite.\")"
   ]
  },
  {
   "cell_type": "code",
   "execution_count": 9,
   "metadata": {},
   "outputs": [],
   "source": [
    "# or alternatively load existing classifer model\n",
    "\n",
    "sup_scaler = StandardScaler()\n",
    "sup_scaler.fit(sup_clsf_train_set[:, 1:-1])\n",
    "\n",
    "sup_classifier_savedir = \"./trained_classifiers_supervised_0/\"\n",
    "sup_classifier_model = NeuralNetworkClassifier(save_path=sup_classifier_savedir,\n",
    "                                               n_inputs=sup_clsf_train_set[:, 1:-1].shape[1],\n",
    "                                               load=True)"
   ]
  },
  {
   "cell_type": "markdown",
   "metadata": {},
   "source": [
    "We can now evaluate the performance of our supervised classifier in terms of ROC curves. Another useful metric in anomaly detection is the significance improvement characteristic: how much significance ($\\frac{S}{\\sqrt(B)}$) we would achieve after applying a cut on our classifier output, divided by the significance without any selection. The efficiency in the x-axis quantifies how tight we apply a cut."
   ]
  },
  {
   "cell_type": "code",
   "execution_count": 10,
   "metadata": {},
   "outputs": [
    {
     "data": {
      "image/png": "[encoded data removed]",
      "text/plain": [
       "<Figure size 640x480 with 1 Axes>"
      ]
     },
     "metadata": {},
     "output_type": "display_data"
    },
    {
     "data": {
      "image/png": "[encoded data removed]",
      "text/plain": [
       "<Figure size 640x480 with 1 Axes>"
      ]
     },
     "metadata": {},
     "output_type": "display_data"
    }
   ],
   "source": [
    "# now let's evaluate the signal extraction performance\n",
    "\n",
    "clsf_test_set = np.vstack([innerdata_test,\n",
    "                           innerdata_extrabkg_test,\n",
    "                           innerdata_extrasig_test])\n",
    "\n",
    "X_test = sup_scaler.transform(clsf_test_set[:, 1:-1])\n",
    "y_test = clsf_test_set[:, -1]\n",
    "\n",
    "preds_test = sup_classifier_model.predict(X_test)\n",
    "\n",
    "with np.errstate(divide='ignore', invalid='ignore'):\n",
    "    fpr, tpr, _ = roc_curve(y_test, preds_test)\n",
    "    bkg_rej = 1 / fpr\n",
    "    sic = tpr / np.sqrt(fpr)\n",
    "\n",
    "    random_tpr = np.linspace(0, 1, 300)\n",
    "    random_bkg_rej = 1 / random_tpr\n",
    "    random_sic = random_tpr / np.sqrt(random_tpr)\n",
    "\n",
    "# ROC curve\n",
    "plt.plot(tpr, bkg_rej, label=\"supervised\")\n",
    "plt.plot(random_tpr, random_bkg_rej, \"w:\", label=\"random\")\n",
    "plt.xlabel(\"True Positive Rate\")\n",
    "plt.ylabel(\"Background Rejection\")\n",
    "plt.yscale(\"log\")\n",
    "plt.legend(loc=\"upper right\")\n",
    "plt.show()\n",
    "\n",
    "# SIC curve\n",
    "plt.plot(tpr, sic, label=\"supervised\")\n",
    "plt.plot(random_tpr, random_sic, \"w:\", label=\"random\")\n",
    "plt.xlabel(\"True Positive Rate\")\n",
    "plt.ylabel(\"Significance Improvement\")\n",
    "plt.legend(loc=\"upper right\")\n",
    "plt.show()"
   ]
  },
  {
   "cell_type": "markdown",
   "metadata": {},
   "source": [
    "This classifier clearly yields good separation between signal and background data.\n",
    "\n",
    "Now we would like to move on to training an idealized anomaly detector. We just take the \"data\" with mostly background and a small fraction of signal, and train a classifier to distinguish it from a pure background sample."
   ]
  },
  {
   "cell_type": "code",
   "execution_count": 11,
   "metadata": {},
   "outputs": [],
   "source": [
    "# assigning label 1 to \"data\"\n",
    "iad_clsf_train_data = innerdata_train.copy()\n",
    "iad_clsf_train_data[:, -1] = np.ones_like(iad_clsf_train_data[:, -1])\n",
    "iad_clsf_val_data = innerdata_val.copy()\n",
    "iad_clsf_val_data[:, -1] = np.ones_like(iad_clsf_val_data[:, -1])\n",
    "\n",
    "# and label 0 to background\n",
    "iad_clsf_train_bkg = innerdata_extrabkg_train.copy()\n",
    "iad_clsf_train_bkg[:, -1] = np.zeros_like(iad_clsf_train_bkg[:, -1])\n",
    "iad_clsf_val_bkg = innerdata_extrabkg_val.copy()\n",
    "iad_clsf_val_bkg[:, -1] = np.zeros_like(iad_clsf_val_bkg[:, -1])\n",
    "\n",
    "# mixing together and shuffling\n",
    "iad_clsf_train_set = np.vstack([iad_clsf_train_data, iad_clsf_train_bkg])\n",
    "iad_clsf_val_set = np.vstack([iad_clsf_val_data, iad_clsf_val_bkg])\n",
    "iad_clsf_train_set = shuffle(iad_clsf_train_set, random_state=42)\n",
    "iad_clsf_val_set = shuffle(iad_clsf_val_set, random_state=42)"
   ]
  },
  {
   "cell_type": "code",
   "execution_count": 12,
   "metadata": {},
   "outputs": [
    {
     "name": "stdout",
     "output_type": "stream",
     "text": [
      "\n",
      "Epoch: 0\n"
     ]
    },
    {
     "name": "stderr",
     "output_type": "stream",
     "text": [
      "Train loss: 0.693263: 100%|██████████| 261375/261375 [00:05<00:00, 47182.54it/s]\n"
     ]
    },
    {
     "name": "stdout",
     "output_type": "stream",
     "text": [
      "Validation loss: 0.6930110061869902\n",
      "\n",
      "Epoch: 1\n"
     ]
    },
    {
     "name": "stderr",
     "output_type": "stream",
     "text": [
      "Train loss: 0.693155: 100%|██████████| 261375/261375 [00:05<00:00, 50567.72it/s]\n"
     ]
    },
    {
     "name": "stdout",
     "output_type": "stream",
     "text": [
      "Validation loss: 0.6928875673343153\n",
      "\n",
      "Epoch: 2\n"
     ]
    },
    {
     "name": "stderr",
     "output_type": "stream",
     "text": [
      "Train loss: 0.693099: 100%|██████████| 261375/261375 [00:05<00:00, 48882.97it/s]\n"
     ]
    },
    {
     "name": "stdout",
     "output_type": "stream",
     "text": [
      "Validation loss: 0.6933661835158572\n",
      "\n",
      "Epoch: 3\n"
     ]
    },
    {
     "name": "stderr",
     "output_type": "stream",
     "text": [
      "Train loss: 0.693056: 100%|██████████| 261375/261375 [00:05<00:00, 50002.51it/s]\n"
     ]
    },
    {
     "name": "stdout",
     "output_type": "stream",
     "text": [
      "Validation loss: 0.6934899669359712\n",
      "\n",
      "Epoch: 4\n"
     ]
    },
    {
     "name": "stderr",
     "output_type": "stream",
     "text": [
      "Train loss: 0.693048: 100%|██████████| 261375/261375 [00:05<00:00, 51805.02it/s]\n"
     ]
    },
    {
     "name": "stdout",
     "output_type": "stream",
     "text": [
      "Validation loss: 0.6926673139719403\n",
      "\n",
      "Epoch: 5\n"
     ]
    },
    {
     "name": "stderr",
     "output_type": "stream",
     "text": [
      "Train loss: 0.692964: 100%|██████████| 261375/261375 [00:05<00:00, 51291.97it/s]\n"
     ]
    },
    {
     "name": "stdout",
     "output_type": "stream",
     "text": [
      "Validation loss: 0.6928565469734809\n",
      "\n",
      "Epoch: 6\n"
     ]
    },
    {
     "name": "stderr",
     "output_type": "stream",
     "text": [
      "Train loss: 0.692884: 100%|██████████| 261375/261375 [00:04<00:00, 53401.48it/s]\n"
     ]
    },
    {
     "name": "stdout",
     "output_type": "stream",
     "text": [
      "Validation loss: 0.6926130902241258\n",
      "\n",
      "Epoch: 7\n"
     ]
    },
    {
     "name": "stderr",
     "output_type": "stream",
     "text": [
      "Train loss: 0.692864: 100%|██████████| 261375/261375 [00:05<00:00, 51857.58it/s]\n"
     ]
    },
    {
     "name": "stdout",
     "output_type": "stream",
     "text": [
      "Validation loss: 0.692757020627751\n",
      "\n",
      "Epoch: 8\n"
     ]
    },
    {
     "name": "stderr",
     "output_type": "stream",
     "text": [
      "Train loss: 0.692801: 100%|██████████| 261375/261375 [00:05<00:00, 50980.23it/s]\n"
     ]
    },
    {
     "name": "stdout",
     "output_type": "stream",
     "text": [
      "Validation loss: 0.6927048021379639\n",
      "\n",
      "Epoch: 9\n"
     ]
    },
    {
     "name": "stderr",
     "output_type": "stream",
     "text": [
      "Train loss: 0.692752: 100%|██████████| 261375/261375 [00:05<00:00, 50299.52it/s]\n"
     ]
    },
    {
     "name": "stdout",
     "output_type": "stream",
     "text": [
      "Validation loss: 0.6925568773465998\n",
      "\n",
      "Epoch: 10\n"
     ]
    },
    {
     "name": "stderr",
     "output_type": "stream",
     "text": [
      "Train loss: 0.692751: 100%|██████████| 261375/261375 [00:05<00:00, 50914.09it/s]\n"
     ]
    },
    {
     "name": "stdout",
     "output_type": "stream",
     "text": [
      "Validation loss: 0.6927424678031135\n",
      "\n",
      "Epoch: 11\n"
     ]
    },
    {
     "name": "stderr",
     "output_type": "stream",
     "text": [
      "Train loss: 0.692710: 100%|██████████| 261375/261375 [00:05<00:00, 50507.81it/s]\n"
     ]
    },
    {
     "name": "stdout",
     "output_type": "stream",
     "text": [
      "Validation loss: 0.6924092732808169\n",
      "\n",
      "Epoch: 12\n"
     ]
    },
    {
     "name": "stderr",
     "output_type": "stream",
     "text": [
      "Train loss: 0.692692: 100%|██████████| 261375/261375 [00:05<00:00, 50395.58it/s]\n"
     ]
    },
    {
     "name": "stdout",
     "output_type": "stream",
     "text": [
      "Validation loss: 0.6927579901674215\n",
      "\n",
      "Epoch: 13\n"
     ]
    },
    {
     "name": "stderr",
     "output_type": "stream",
     "text": [
      "Train loss: 0.692678: 100%|██████████| 261375/261375 [00:04<00:00, 52397.87it/s]\n"
     ]
    },
    {
     "name": "stdout",
     "output_type": "stream",
     "text": [
      "Validation loss: 0.6923078252550434\n",
      "\n",
      "Epoch: 14\n"
     ]
    },
    {
     "name": "stderr",
     "output_type": "stream",
     "text": [
      "Train loss: 0.692662: 100%|██████████| 261375/261375 [00:04<00:00, 53044.34it/s]\n"
     ]
    },
    {
     "name": "stdout",
     "output_type": "stream",
     "text": [
      "Validation loss: 0.6923610262134496\n",
      "\n",
      "Epoch: 15\n"
     ]
    },
    {
     "name": "stderr",
     "output_type": "stream",
     "text": [
      "Train loss: 0.692626: 100%|██████████| 261375/261375 [00:04<00:00, 53257.25it/s]\n"
     ]
    },
    {
     "name": "stdout",
     "output_type": "stream",
     "text": [
      "Validation loss: 0.6925908791668275\n",
      "\n",
      "Epoch: 16\n"
     ]
    },
    {
     "name": "stderr",
     "output_type": "stream",
     "text": [
      "Train loss: 0.692632: 100%|██████████| 261375/261375 [00:04<00:00, 54070.78it/s]\n"
     ]
    },
    {
     "name": "stdout",
     "output_type": "stream",
     "text": [
      "Validation loss: 0.6927492970929426\n",
      "\n",
      "Epoch: 17\n"
     ]
    },
    {
     "name": "stderr",
     "output_type": "stream",
     "text": [
      "Train loss: 0.692622: 100%|██████████| 261375/261375 [00:05<00:00, 50618.28it/s]\n"
     ]
    },
    {
     "name": "stdout",
     "output_type": "stream",
     "text": [
      "Validation loss: 0.6924276731470052\n",
      "\n",
      "Epoch: 18\n"
     ]
    },
    {
     "name": "stderr",
     "output_type": "stream",
     "text": [
      "Train loss: 0.692589: 100%|██████████| 261375/261375 [00:05<00:00, 49133.93it/s]\n"
     ]
    },
    {
     "name": "stdout",
     "output_type": "stream",
     "text": [
      "Validation loss: 0.6928675705019165\n",
      "\n",
      "Epoch: 19\n"
     ]
    },
    {
     "name": "stderr",
     "output_type": "stream",
     "text": [
      "Train loss: 0.692620: 100%|██████████| 261375/261375 [00:05<00:00, 48911.43it/s]\n"
     ]
    },
    {
     "name": "stdout",
     "output_type": "stream",
     "text": [
      "Validation loss: 0.6924872026723974\n",
      "\n",
      "Epoch: 20\n"
     ]
    },
    {
     "name": "stderr",
     "output_type": "stream",
     "text": [
      "Train loss: 0.692559: 100%|██████████| 261375/261375 [00:05<00:00, 51716.98it/s]\n"
     ]
    },
    {
     "name": "stdout",
     "output_type": "stream",
     "text": [
      "Validation loss: 0.6926507296807626\n",
      "\n",
      "Epoch: 21\n"
     ]
    },
    {
     "name": "stderr",
     "output_type": "stream",
     "text": [
      "Train loss: 0.692533: 100%|██████████| 261375/261375 [00:05<00:00, 51317.50it/s]\n"
     ]
    },
    {
     "name": "stdout",
     "output_type": "stream",
     "text": [
      "Validation loss: 0.6927977480432567\n",
      "\n",
      "Epoch: 22\n"
     ]
    },
    {
     "name": "stderr",
     "output_type": "stream",
     "text": [
      "Train loss: 0.692508: 100%|██████████| 261375/261375 [00:05<00:00, 47740.83it/s]\n"
     ]
    },
    {
     "name": "stdout",
     "output_type": "stream",
     "text": [
      "Validation loss: 0.6927929711692473\n",
      "\n",
      "Epoch: 23\n"
     ]
    },
    {
     "name": "stderr",
     "output_type": "stream",
     "text": [
      "Train loss: 0.692527: 100%|██████████| 261375/261375 [00:05<00:00, 44139.43it/s]\n"
     ]
    },
    {
     "name": "stdout",
     "output_type": "stream",
     "text": [
      "Validation loss: 0.6926570782766622\n",
      "Early stopping at epoch 23\n",
      "Loading best model state...\n"
     ]
    }
   ],
   "source": [
    "# either train new NN classifier to distinguish between \"data\" and background\n",
    "\n",
    "iad_scaler = StandardScaler()\n",
    "iad_scaler.fit(iad_clsf_train_set[:, 1:-1])\n",
    "\n",
    "X_train = iad_scaler.transform(iad_clsf_train_set[:, 1:-1])\n",
    "y_train = iad_clsf_train_set[:, -1]\n",
    "X_val = iad_scaler.transform(iad_clsf_val_set[:, 1:-1])\n",
    "y_val = iad_clsf_val_set[:, -1]\n",
    "\n",
    "iad_classifier_savedir = \"./trained_classifiers_idealized-ad_0/\"\n",
    "# Let's protect ourselves from accidentally overwriting a trained model.\n",
    "if not exists(join(iad_classifier_savedir, \"CLSF_models\")):\n",
    "    iad_classifier_model = NeuralNetworkClassifier(save_path=iad_classifier_savedir,\n",
    "                                                   n_inputs=X_train.shape[1],\n",
    "                                                   early_stopping=True, epochs=None,\n",
    "                                                   verbose=True)\n",
    "    iad_classifier_model.fit(X_train, y_train, X_val, y_val)\n",
    "else:\n",
    "    print(f\"The model exists already in {iad_classifier_savedir}. Remove first if you want to overwrite.\")"
   ]
  },
  {
   "cell_type": "code",
   "execution_count": 13,
   "metadata": {},
   "outputs": [],
   "source": [
    "# or alternatively load existing classifer model\n",
    "\n",
    "iad_scaler = StandardScaler()\n",
    "iad_scaler.fit(iad_clsf_train_set[:, 1:-1])\n",
    "\n",
    "iad_classifier_savedir = \"./trained_classifiers_idealized-ad_0/\"\n",
    "iad_classifier_model = NeuralNetworkClassifier(save_path=iad_classifier_savedir,\n",
    "                                               n_inputs=iad_clsf_train_set[:, 1:-1].shape[1],\n",
    "                                               load=True)"
   ]
  },
  {
   "cell_type": "code",
   "execution_count": 14,
   "metadata": {},
   "outputs": [
    {
     "data": {
      "image/png": "[encoded data removed]",
      "text/plain": [
       "<Figure size 640x480 with 1 Axes>"
      ]
     },
     "metadata": {},
     "output_type": "display_data"
    },
    {
     "data": {
      "image/png": "[encoded data removed]",
      "text/plain": [
       "<Figure size 640x480 with 1 Axes>"
      ]
     },
     "metadata": {},
     "output_type": "display_data"
    }
   ],
   "source": [
    "# now let's evaluate the signal extraction performance on the same test set\n",
    "\n",
    "clsf_test_set = np.vstack([innerdata_test,\n",
    "                           innerdata_extrabkg_test,\n",
    "                           innerdata_extrasig_test])\n",
    "\n",
    "X_test = iad_scaler.transform(clsf_test_set[:, 1:-1])\n",
    "y_test = clsf_test_set[:, -1]\n",
    "\n",
    "preds_test = iad_classifier_model.predict(X_test)\n",
    "\n",
    "with np.errstate(divide='ignore', invalid='ignore'):\n",
    "    fpr, tpr, _ = roc_curve(y_test, preds_test)\n",
    "    bkg_rej = 1 / fpr\n",
    "    sic = tpr / np.sqrt(fpr)\n",
    "\n",
    "    random_tpr = np.linspace(0, 1, 300)\n",
    "    random_bkg_rej = 1 / random_tpr\n",
    "    random_sic = random_tpr / np.sqrt(random_tpr)\n",
    "\n",
    "# ROC curve\n",
    "plt.plot(tpr, bkg_rej, label=\"idealized AD\")\n",
    "plt.plot(random_tpr, random_bkg_rej, \"w:\", label=\"random\")\n",
    "plt.xlabel(\"True Positive Rate\")\n",
    "plt.ylabel(\"Background Rejection\")\n",
    "plt.yscale(\"log\")\n",
    "plt.legend(loc=\"upper right\")\n",
    "plt.show()\n",
    "\n",
    "# SIC curve\n",
    "plt.plot(tpr, sic, label=\"idealized AD\")\n",
    "plt.plot(random_tpr, random_sic, \"w:\", label=\"random\")\n",
    "plt.xlabel(\"True Positive Rate\")\n",
    "plt.ylabel(\"Significance Improvement\")\n",
    "plt.legend(loc=\"upper right\")\n",
    "plt.show()"
   ]
  },
  {
   "cell_type": "markdown",
   "metadata": {},
   "source": [
    "The plots above should also show quite good significance improvement, however a bit lower than in the fully supervised case. Under perfect training conditions, the two should be equal, but in practice we would need more and more training data with decreasing signal fractions to achieve this.\n",
    "\n",
    "For the fun of it, let's compare the two approaches more thoroughly in terms of their signal extraction performance, rather than looking at two individual trainings. We will train ten classifiers each with the same data, then show their performance in terms of median and 68% confidence interval bands."
   ]
  },
  {
   "cell_type": "code",
   "execution_count": null,
   "metadata": {},
   "outputs": [
    {
     "name": "stdout",
     "output_type": "stream",
     "text": [
      "The model exists already in ./trained_classifiers_supervised_0/. Remove first if you want to overwrite. Loading its best state now.\n",
      "\n",
      "Epoch: 0\n"
     ]
    },
    {
     "name": "stderr",
     "output_type": "stream",
     "text": [
      "Train loss: 0.247938: 100%|██████████| 302370/302370 [00:05<00:00, 51611.87it/s]\n"
     ]
    },
    {
     "name": "stdout",
     "output_type": "stream",
     "text": [
      "Validation loss: 0.22156860032089196\n",
      "\n",
      "Epoch: 1\n"
     ]
    },
    {
     "name": "stderr",
     "output_type": "stream",
     "text": [
      "Train loss: 0.224462: 100%|██████████| 302370/302370 [00:05<00:00, 50802.31it/s]\n"
     ]
    },
    {
     "name": "stdout",
     "output_type": "stream",
     "text": [
      "Validation loss: 0.2221692972217396\n",
      "\n",
      "Epoch: 2\n"
     ]
    },
    {
     "name": "stderr",
     "output_type": "stream",
     "text": [
      "Train loss: 0.221422: 100%|██████████| 302370/302370 [00:05<00:00, 52759.57it/s]\n"
     ]
    },
    {
     "name": "stdout",
     "output_type": "stream",
     "text": [
      "Validation loss: 0.22077891098655714\n",
      "\n",
      "Epoch: 3\n"
     ]
    },
    {
     "name": "stderr",
     "output_type": "stream",
     "text": [
      "Train loss: 0.219659: 100%|██████████| 302370/302370 [00:05<00:00, 52626.55it/s]\n"
     ]
    },
    {
     "name": "stdout",
     "output_type": "stream",
     "text": [
      "Validation loss: 0.22093509258168517\n",
      "\n",
      "Epoch: 4\n"
     ]
    },
    {
     "name": "stderr",
     "output_type": "stream",
     "text": [
      "Train loss: 0.218605: 100%|██████████| 302370/302370 [00:06<00:00, 45542.29it/s]\n"
     ]
    },
    {
     "name": "stdout",
     "output_type": "stream",
     "text": [
      "Validation loss: 0.21603109185483046\n",
      "\n",
      "Epoch: 5\n"
     ]
    },
    {
     "name": "stderr",
     "output_type": "stream",
     "text": [
      "Train loss: 0.218529: 100%|██████████| 302370/302370 [00:07<00:00, 42434.04it/s]\n"
     ]
    },
    {
     "name": "stdout",
     "output_type": "stream",
     "text": [
      "Validation loss: 0.21766148402242905\n",
      "\n",
      "Epoch: 6\n"
     ]
    },
    {
     "name": "stderr",
     "output_type": "stream",
     "text": [
      "Train loss: 0.217676: 100%|██████████| 302370/302370 [00:06<00:00, 43587.46it/s]\n"
     ]
    },
    {
     "name": "stdout",
     "output_type": "stream",
     "text": [
      "Validation loss: 0.2166179851646636\n",
      "\n",
      "Epoch: 7\n"
     ]
    },
    {
     "name": "stderr",
     "output_type": "stream",
     "text": [
      "Train loss: 0.217009: 100%|██████████| 302370/302370 [00:07<00:00, 42171.94it/s]\n"
     ]
    },
    {
     "name": "stdout",
     "output_type": "stream",
     "text": [
      "Validation loss: 0.2157922282530244\n",
      "\n",
      "Epoch: 8\n"
     ]
    },
    {
     "name": "stderr",
     "output_type": "stream",
     "text": [
      "Train loss: 0.216574: 100%|██████████| 302370/302370 [00:07<00:00, 41535.42it/s]\n"
     ]
    },
    {
     "name": "stdout",
     "output_type": "stream",
     "text": [
      "Validation loss: 0.21952276255484598\n",
      "\n",
      "Epoch: 9\n"
     ]
    },
    {
     "name": "stderr",
     "output_type": "stream",
     "text": [
      "Train loss: 0.216062: 100%|██████████| 302370/302370 [00:06<00:00, 46072.87it/s]\n"
     ]
    },
    {
     "name": "stdout",
     "output_type": "stream",
     "text": [
      "Validation loss: 0.21575612354620247\n",
      "\n",
      "Epoch: 10\n"
     ]
    },
    {
     "name": "stderr",
     "output_type": "stream",
     "text": [
      "Train loss: 0.215782: 100%|██████████| 302370/302370 [00:05<00:00, 51577.91it/s]\n"
     ]
    },
    {
     "name": "stdout",
     "output_type": "stream",
     "text": [
      "Validation loss: 0.21473177486828937\n",
      "\n",
      "Epoch: 11\n"
     ]
    },
    {
     "name": "stderr",
     "output_type": "stream",
     "text": [
      "Train loss: 0.215564: 100%|██████████| 302370/302370 [00:06<00:00, 50270.13it/s]\n"
     ]
    },
    {
     "name": "stdout",
     "output_type": "stream",
     "text": [
      "Validation loss: 0.21490293946235803\n",
      "\n",
      "Epoch: 12\n"
     ]
    },
    {
     "name": "stderr",
     "output_type": "stream",
     "text": [
      "Train loss: 0.214946: 100%|██████████| 302370/302370 [00:05<00:00, 52880.32it/s]\n"
     ]
    },
    {
     "name": "stdout",
     "output_type": "stream",
     "text": [
      "Validation loss: 0.2155356988880285\n",
      "\n",
      "Epoch: 13\n"
     ]
    },
    {
     "name": "stderr",
     "output_type": "stream",
     "text": [
      "Train loss: 0.214765: 100%|██████████| 302370/302370 [00:05<00:00, 52498.72it/s]\n"
     ]
    },
    {
     "name": "stdout",
     "output_type": "stream",
     "text": [
      "Validation loss: 0.21718212674567655\n",
      "\n",
      "Epoch: 14\n"
     ]
    },
    {
     "name": "stderr",
     "output_type": "stream",
     "text": [
      "Train loss: 0.214272: 100%|██████████| 302370/302370 [00:05<00:00, 53038.82it/s]\n"
     ]
    },
    {
     "name": "stdout",
     "output_type": "stream",
     "text": [
      "Validation loss: 0.21450261577109622\n",
      "\n",
      "Epoch: 15\n"
     ]
    },
    {
     "name": "stderr",
     "output_type": "stream",
     "text": [
      "Train loss: 0.214012: 100%|██████████| 302370/302370 [00:05<00:00, 52229.57it/s]\n"
     ]
    },
    {
     "name": "stdout",
     "output_type": "stream",
     "text": [
      "Validation loss: 0.2126069808746599\n",
      "\n",
      "Epoch: 16\n"
     ]
    },
    {
     "name": "stderr",
     "output_type": "stream",
     "text": [
      "Train loss: 0.213922: 100%|██████████| 302370/302370 [00:05<00:00, 52719.54it/s]\n"
     ]
    },
    {
     "name": "stdout",
     "output_type": "stream",
     "text": [
      "Validation loss: 0.21357925423201482\n",
      "\n",
      "Epoch: 17\n"
     ]
    },
    {
     "name": "stderr",
     "output_type": "stream",
     "text": [
      "Train loss: 0.213305: 100%|██████████| 302370/302370 [00:05<00:00, 52414.67it/s]\n"
     ]
    },
    {
     "name": "stdout",
     "output_type": "stream",
     "text": [
      "Validation loss: 0.2147453843787977\n",
      "\n",
      "Epoch: 18\n"
     ]
    },
    {
     "name": "stderr",
     "output_type": "stream",
     "text": [
      "Train loss: 0.213356: 100%|██████████| 302370/302370 [00:06<00:00, 49243.36it/s]\n"
     ]
    },
    {
     "name": "stdout",
     "output_type": "stream",
     "text": [
      "Validation loss: 0.21308809460917855\n",
      "\n",
      "Epoch: 19\n"
     ]
    },
    {
     "name": "stderr",
     "output_type": "stream",
     "text": [
      "Train loss: 0.213591: 100%|██████████| 302370/302370 [00:05<00:00, 52065.97it/s]\n"
     ]
    },
    {
     "name": "stdout",
     "output_type": "stream",
     "text": [
      "Validation loss: 0.21386540475165008\n",
      "\n",
      "Epoch: 20\n"
     ]
    },
    {
     "name": "stderr",
     "output_type": "stream",
     "text": [
      "Train loss: 0.213225: 100%|██████████| 302370/302370 [00:05<00:00, 51785.35it/s]\n"
     ]
    },
    {
     "name": "stdout",
     "output_type": "stream",
     "text": [
      "Validation loss: 0.21248400590981648\n",
      "\n",
      "Epoch: 21\n"
     ]
    },
    {
     "name": "stderr",
     "output_type": "stream",
     "text": [
      "Train loss: 0.212919: 100%|██████████| 302370/302370 [00:05<00:00, 51356.01it/s]\n"
     ]
    },
    {
     "name": "stdout",
     "output_type": "stream",
     "text": [
      "Validation loss: 0.21368890082950046\n",
      "\n",
      "Epoch: 22\n"
     ]
    },
    {
     "name": "stderr",
     "output_type": "stream",
     "text": [
      "Train loss: 0.212752: 100%|██████████| 302370/302370 [00:05<00:00, 51499.87it/s]\n"
     ]
    },
    {
     "name": "stdout",
     "output_type": "stream",
     "text": [
      "Validation loss: 0.2132698570846752\n",
      "\n",
      "Epoch: 23\n"
     ]
    },
    {
     "name": "stderr",
     "output_type": "stream",
     "text": [
      "Train loss: 0.212720: 100%|██████████| 302370/302370 [00:05<00:00, 53127.41it/s]\n"
     ]
    },
    {
     "name": "stdout",
     "output_type": "stream",
     "text": [
      "Validation loss: 0.2126478719673339\n",
      "\n",
      "Epoch: 24\n"
     ]
    },
    {
     "name": "stderr",
     "output_type": "stream",
     "text": [
      "Train loss: 0.212551: 100%|██████████| 302370/302370 [00:05<00:00, 51414.53it/s]\n"
     ]
    },
    {
     "name": "stdout",
     "output_type": "stream",
     "text": [
      "Validation loss: 0.21605441889185814\n",
      "\n",
      "Epoch: 25\n"
     ]
    },
    {
     "name": "stderr",
     "output_type": "stream",
     "text": [
      "Train loss: 0.212591: 100%|██████████| 302370/302370 [00:05<00:00, 51725.03it/s]\n"
     ]
    },
    {
     "name": "stdout",
     "output_type": "stream",
     "text": [
      "Validation loss: 0.21344435222589286\n",
      "\n",
      "Epoch: 26\n"
     ]
    },
    {
     "name": "stderr",
     "output_type": "stream",
     "text": [
      "Train loss: 0.212701: 100%|██████████| 302370/302370 [00:06<00:00, 50236.86it/s]\n"
     ]
    },
    {
     "name": "stdout",
     "output_type": "stream",
     "text": [
      "Validation loss: 0.2136950754625782\n",
      "\n",
      "Epoch: 27\n"
     ]
    },
    {
     "name": "stderr",
     "output_type": "stream",
     "text": [
      "Train loss: 0.212475: 100%|██████████| 302370/302370 [00:05<00:00, 53820.45it/s]\n"
     ]
    },
    {
     "name": "stdout",
     "output_type": "stream",
     "text": [
      "Validation loss: 0.2132566341074409\n",
      "\n",
      "Epoch: 28\n"
     ]
    },
    {
     "name": "stderr",
     "output_type": "stream",
     "text": [
      "Train loss: 0.212241: 100%|██████████| 302370/302370 [00:05<00:00, 52992.51it/s]\n"
     ]
    },
    {
     "name": "stdout",
     "output_type": "stream",
     "text": [
      "Validation loss: 0.2146576348573539\n",
      "\n",
      "Epoch: 29\n"
     ]
    },
    {
     "name": "stderr",
     "output_type": "stream",
     "text": [
      "Train loss: 0.212125: 100%|██████████| 302370/302370 [00:05<00:00, 53984.18it/s]\n"
     ]
    },
    {
     "name": "stdout",
     "output_type": "stream",
     "text": [
      "Validation loss: 0.21348909505992938\n",
      "\n",
      "Epoch: 30\n"
     ]
    },
    {
     "name": "stderr",
     "output_type": "stream",
     "text": [
      "Train loss: 0.212182: 100%|██████████| 302370/302370 [00:05<00:00, 51296.79it/s]\n"
     ]
    },
    {
     "name": "stdout",
     "output_type": "stream",
     "text": [
      "Validation loss: 0.21417285885400833\n",
      "Early stopping at epoch 30\n",
      "Loading best model state...\n",
      "\n",
      "Epoch: 0\n"
     ]
    },
    {
     "name": "stderr",
     "output_type": "stream",
     "text": [
      "Train loss: 0.245208: 100%|██████████| 302370/302370 [00:05<00:00, 53328.54it/s]\n"
     ]
    },
    {
     "name": "stdout",
     "output_type": "stream",
     "text": [
      "Validation loss: 0.22945588614530624\n",
      "\n",
      "Epoch: 1\n"
     ]
    },
    {
     "name": "stderr",
     "output_type": "stream",
     "text": [
      "Train loss: 0.223401: 100%|██████████| 302370/302370 [00:05<00:00, 51938.60it/s]\n"
     ]
    },
    {
     "name": "stdout",
     "output_type": "stream",
     "text": [
      "Validation loss: 0.22080663286956254\n",
      "\n",
      "Epoch: 2\n"
     ]
    },
    {
     "name": "stderr",
     "output_type": "stream",
     "text": [
      "Train loss: 0.221195: 100%|██████████| 302370/302370 [00:05<00:00, 50854.57it/s]\n"
     ]
    },
    {
     "name": "stdout",
     "output_type": "stream",
     "text": [
      "Validation loss: 0.21958027431729493\n",
      "\n",
      "Epoch: 3\n"
     ]
    },
    {
     "name": "stderr",
     "output_type": "stream",
     "text": [
      "Train loss: 0.219851: 100%|██████████| 302370/302370 [00:05<00:00, 51673.71it/s]\n"
     ]
    },
    {
     "name": "stdout",
     "output_type": "stream",
     "text": [
      "Validation loss: 0.21751162163960705\n",
      "\n",
      "Epoch: 4\n"
     ]
    },
    {
     "name": "stderr",
     "output_type": "stream",
     "text": [
      "Train loss: 0.218753: 100%|██████████| 302370/302370 [00:06<00:00, 49163.78it/s]\n"
     ]
    },
    {
     "name": "stdout",
     "output_type": "stream",
     "text": [
      "Validation loss: 0.21617368305944334\n",
      "\n",
      "Epoch: 5\n"
     ]
    },
    {
     "name": "stderr",
     "output_type": "stream",
     "text": [
      "Train loss: 0.215016:  43%|████▎     | 128896/302370 [00:02<00:03, 47748.60it/s]"
     ]
    }
   ],
   "source": [
    "# either train new NN classifiers to distinguish between signal and background\n",
    "\n",
    "sup_scaler = StandardScaler()\n",
    "sup_scaler.fit(sup_clsf_train_set[:, 1:-1])\n",
    "\n",
    "X_train = sup_scaler.transform(sup_clsf_train_set[:, 1:-1])\n",
    "y_train = sup_clsf_train_set[:, -1]\n",
    "X_val = sup_scaler.transform(sup_clsf_val_set[:, 1:-1])\n",
    "y_val = sup_clsf_val_set[:, -1]\n",
    "\n",
    "sup_model_list = []\n",
    "for i in range(10):\n",
    "    _classifier_savedir = f\"./trained_classifiers_supervised_{i}/\"     \n",
    "    sup_model_list.append(NeuralNetworkClassifier(save_path=_classifier_savedir,\n",
    "                                                  n_inputs=X_train.shape[1],\n",
    "                                                  early_stopping=True, epochs=None,\n",
    "                                                  verbose=True))\n",
    "\n",
    "    # We don't want to overwrite the model if it already exists.\n",
    "    if not exists(join(_classifier_savedir, \"CLSF_models\")):\n",
    "        sup_model_list[-1].fit(X_train, y_train, X_val, y_val)\n",
    "    else:\n",
    "        print(f\"The model exists already in {_classifier_savedir}. Remove first if you want to overwrite. Loading its best state now.\")\n",
    "        sup_model_list[-1].load_best_model()"
   ]
  },
  {
   "cell_type": "code",
   "execution_count": null,
   "metadata": {},
   "outputs": [],
   "source": [
    "# or alternatively load existing classifer models\n",
    "\n",
    "sup_scaler = StandardScaler()\n",
    "sup_scaler.fit(sup_clsf_train_set[:, 1:-1])\n",
    "\n",
    "sup_model_list = []\n",
    "for i in range(10):\n",
    "    _classifier_savedir = f\"./trained_classifiers_supervised_{i}/\"     \n",
    "    sup_model_list.append(NeuralNetworkClassifier(save_path=_classifier_savedir,\n",
    "                                                  n_inputs=sup_clsf_train_set[:, 1:-1].shape[1],\n",
    "                                                  load=True))"
   ]
  },
  {
   "cell_type": "code",
   "execution_count": null,
   "metadata": {},
   "outputs": [],
   "source": [
    "# the same goes for the IAD: either train from scratch\n",
    "\n",
    "iad_scaler = StandardScaler()\n",
    "iad_scaler.fit(iad_clsf_train_set[:, 1:-1])\n",
    "\n",
    "X_train = iad_scaler.transform(iad_clsf_train_set[:, 1:-1])\n",
    "y_train = iad_clsf_train_set[:, -1]\n",
    "X_val = iad_scaler.transform(iad_clsf_val_set[:, 1:-1])\n",
    "y_val = iad_clsf_val_set[:, -1]\n",
    "\n",
    "iad_model_list = []\n",
    "for i in range(10):\n",
    "    _classifier_savedir = f\"./trained_classifiers_idealized-ad_{i}/\"     \n",
    "    iad_model_list.append(NeuralNetworkClassifier(save_path=_classifier_savedir,\n",
    "                                                  n_inputs=X_train.shape[1],\n",
    "                                                  early_stopping=True, epochs=None,\n",
    "                                                  verbose=True))\n",
    "\n",
    "    # We don't want to overwrite the model if it already exists.\n",
    "    if not exists(join(_classifier_savedir, \"CLSF_models\")):\n",
    "        iad_model_list[-1].fit(X_train, y_train, X_val, y_val)\n",
    "    else:\n",
    "        print(f\"The model exists already in {_classifier_savedir}. Remove first if you want to overwrite. Loading its best state now.\")\n",
    "        iad_model_list[-1].load_best_model()"
   ]
  },
  {
   "cell_type": "code",
   "execution_count": null,
   "metadata": {},
   "outputs": [],
   "source": [
    "# or alternatively load existing IAD models\n",
    "\n",
    "iad_scaler = StandardScaler()\n",
    "iad_scaler.fit(iad_clsf_train_set[:, 1:-1])\n",
    "\n",
    "iad_model_list = []\n",
    "for i in range(10):\n",
    "    _classifier_savedir = f\"./trained_classifiers_idealized-ad_{i}/\"     \n",
    "    iad_model_list.append(NeuralNetworkClassifier(save_path=_classifier_savedir,\n",
    "                                                  n_inputs=iad_clsf_train_set[:, 1:-1].shape[1],\n",
    "                                                  load=True))"
   ]
  },
  {
   "cell_type": "code",
   "execution_count": null,
   "metadata": {},
   "outputs": [],
   "source": [
    "# now let's evaluate all models and compute their median ROC and SIC, as well as 68% bands\n",
    "\n",
    "clsf_test_set = np.vstack([innerdata_test,\n",
    "                           innerdata_extrabkg_test,\n",
    "                           innerdata_extrasig_test])\n",
    "\n",
    "# we will infeer all ROC and SIC values onto a common TPR grid\n",
    "common_tpr = np.linspace(0, 1, 300)\n",
    "\n",
    "X_test_sup = sup_scaler.transform(clsf_test_set[:, 1:-1])\n",
    "y_test_sup = clsf_test_set[:, -1]\n",
    "\n",
    "# first supervised classifiers\n",
    "sup_bkg_rejs = []\n",
    "sup_sics = []\n",
    "for model in sup_model_list:\n",
    "    preds_test = model.predict(X_test_sup)\n",
    "    with np.errstate(divide='ignore', invalid='ignore'):\n",
    "        fpr, tpr, _ = roc_curve(y_test, preds_test)\n",
    "        sup_bkg_rejs.append(np.interp(common_tpr, tpr, 1/fpr))\n",
    "        sup_sics.append(np.interp(common_tpr, tpr, tpr / np.sqrt(fpr)))\n",
    "\n",
    "# then the same with the IAD\n",
    "X_test_iad = iad_scaler.transform(clsf_test_set[:, 1:-1])\n",
    "y_test_iad = clsf_test_set[:, -1]\n",
    "\n",
    "iad_bkg_rejs = []\n",
    "iad_sics = []\n",
    "for model in iad_model_list:\n",
    "    preds_test = model.predict(X_test_iad)\n",
    "    with np.errstate(divide='ignore', invalid='ignore'):\n",
    "        fpr, tpr, _ = roc_curve(y_test, preds_test)\n",
    "        iad_bkg_rejs.append(np.interp(common_tpr, tpr, 1/fpr))\n",
    "        iad_sics.append(np.interp(common_tpr, tpr, tpr / np.sqrt(fpr)))\n",
    "\n",
    "with np.errstate(divide='ignore', invalid='ignore'):\n",
    "    random_bkg_rej = 1 / common_tpr\n",
    "    random_sic = common_tpr / np.sqrt(common_tpr)\n",
    "\n",
    "# ROC curves\n",
    "plt.plot(common_tpr,\n",
    "         np.median(np.stack(sup_bkg_rejs, axis=0), axis=0),\n",
    "         label=\"supervised\")\n",
    "plt.fill_between(common_tpr,\n",
    "                 np.quantile(np.stack(sup_bkg_rejs, axis=0), q=.16, axis=0),\n",
    "                 np.quantile(np.stack(sup_bkg_rejs, axis=0), q=.84, axis=0),\n",
    "                 color=plt.gca().lines[-1].get_color(),\n",
    "                 alpha=0.3)\n",
    "plt.plot(common_tpr,\n",
    "         np.median(np.stack(iad_bkg_rejs, axis=0), axis=0),\n",
    "         label=\"idealized AD\")\n",
    "plt.fill_between(common_tpr,\n",
    "                 np.quantile(np.stack(iad_bkg_rejs, axis=0), q=.16, axis=0),\n",
    "                 np.quantile(np.stack(iad_bkg_rejs, axis=0), q=.84, axis=0),\n",
    "                 color=plt.gca().lines[-1].get_color(),\n",
    "                 alpha=0.3)\n",
    "plt.plot(common_tpr, random_bkg_rej, \"w:\", label=\"random\")\n",
    "plt.xlabel(\"True Positive Rate\")\n",
    "plt.ylabel(\"Background Rejection\")\n",
    "plt.yscale(\"log\")\n",
    "plt.legend(loc=\"upper right\")\n",
    "plt.show()\n",
    "\n",
    "# SIC curves\n",
    "plt.plot(common_tpr,\n",
    "         np.median(np.stack(sup_sics, axis=0), axis=0),\n",
    "         label=\"supervised\")\n",
    "plt.fill_between(common_tpr,\n",
    "                 np.quantile(np.stack(sup_sics, axis=0), q=.16, axis=0),\n",
    "                 np.quantile(np.stack(sup_sics, axis=0), q=.84, axis=0),\n",
    "                 color=plt.gca().lines[-1].get_color(),\n",
    "                 alpha=0.3)\n",
    "plt.plot(common_tpr,\n",
    "         np.median(np.stack(iad_sics, axis=0), axis=0),\n",
    "         label=\"idealized AD\")\n",
    "plt.fill_between(common_tpr,\n",
    "                 np.quantile(np.stack(iad_sics, axis=0), q=.16, axis=0),\n",
    "                 np.quantile(np.stack(iad_sics, axis=0), q=.84, axis=0),\n",
    "                 color=plt.gca().lines[-1].get_color(),\n",
    "                 alpha=0.3)\n",
    "plt.plot(common_tpr, random_sic, \"w:\", label=\"random\")\n",
    "plt.xlabel(\"True Positive Rate\")\n",
    "plt.ylabel(\"Significance Improvement\")\n",
    "plt.legend(loc=\"upper right\")\n",
    "plt.show()"
   ]
  },
  {
   "cell_type": "markdown",
   "metadata": {},
   "source": [
    "We see that the IAD is not as good as the supervised classifier here. For that we would probably need much more training data. Also, one sees that the supervised classifier has almost negligible variance in performance, whereas the IAD varies from run to run more. It makes sense as there is only a small number of signal events in the training data.\n",
    "\n",
    "However, the IAD still performs pretty well and comes increasingly close to a fully supervised model at tight cuts. This is remarkable, as there was no explicit signal information provided to the classifier during the training."
   ]
  }
 ],
 "metadata": {
  "kernelspec": {
   "display_name": "pytorch-2.0.1",
   "language": "python",
   "name": "pytorch-2.0.1"
  },
  "language_info": {
   "codemirror_mode": {
    "name": "ipython",
    "version": 3
   },
   "file_extension": ".py",
   "mimetype": "text/x-python",
   "name": "python",
   "nbconvert_exporter": "python",
   "pygments_lexer": "ipython3",
   "version": "3.9.16"
  }
 },
 "nbformat": 4,
 "nbformat_minor": 4
}
